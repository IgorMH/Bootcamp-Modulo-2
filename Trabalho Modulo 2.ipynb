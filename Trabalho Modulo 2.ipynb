{
 "cells": [
  {
   "cell_type": "code",
   "execution_count": 1,
   "metadata": {},
   "outputs": [],
   "source": [
    "import pandas as pd"
   ]
  },
  {
   "cell_type": "code",
   "execution_count": 126,
   "metadata": {},
   "outputs": [],
   "source": [
    "users = pd.read_csv('D:\\BootCamp - Engenheiro de Dados IGTI\\Modulo 2\\Dados\\worldwide internet users - users.csv', delimiter = ',')"
   ]
  },
  {
   "cell_type": "code",
   "execution_count": 127,
   "metadata": {},
   "outputs": [],
   "source": [
    "mapeamento_continente = {}\n",
    "def mapear(dataframe, pais, continente):\n",
    "    global mapeamento_continente\n",
    "    mapeamento_continente = dict(zip(dataframe[pais],dataframe[continente]))\n",
    "    return mapeamento_continente\n"
   ]
  },
  {
   "cell_type": "code",
   "execution_count": 128,
   "metadata": {},
   "outputs": [
    {
     "data": {
      "text/plain": [
       "{'China': 'Asia',\n",
       " 'India': 'Asia',\n",
       " 'United States': 'Americas',\n",
       " 'Indonesia': 'Asia',\n",
       " 'Brazil': 'Americas',\n",
       " 'Nigeria': 'Africa',\n",
       " 'Bangladesh': 'Asia',\n",
       " 'Russia': 'Europe',\n",
       " 'Pakistan': 'Asia',\n",
       " 'Japan': 'Asia',\n",
       " 'Mexico': 'Americas',\n",
       " 'Iran': 'Asia',\n",
       " 'Germany': 'Europe',\n",
       " 'Philippines': 'Asia',\n",
       " 'Turkey': 'Europe',\n",
       " 'Vietnam': 'Asia',\n",
       " 'United Kingdom': 'Europe',\n",
       " 'France': 'Europe',\n",
       " 'Egypt': 'Africa',\n",
       " 'South Korea': 'Asia',\n",
       " 'Spain': 'Europe',\n",
       " 'Thailand': 'Asia',\n",
       " 'Italy': 'Europe',\n",
       " 'Poland': 'Europe',\n",
       " 'Canada': 'Americas',\n",
       " 'Argentina': 'Americas',\n",
       " 'South Africa': 'Africa',\n",
       " 'Colombia': 'Americas',\n",
       " 'Saudi Arabia': 'Asia',\n",
       " 'Malaysia': 'Asia',\n",
       " 'Ukraine': 'Europe',\n",
       " 'Algeria': 'Africa',\n",
       " 'Morocco': 'Africa',\n",
       " 'Taiwan': 'Asia',\n",
       " 'Australia': 'Oceania',\n",
       " 'Venezuela': 'Americas',\n",
       " 'Ethiopia': 'Africa',\n",
       " 'Iraq': 'Asia',\n",
       " 'Uzbekistan': 'Asia',\n",
       " 'Myanmar': 'Asia',\n",
       " 'Netherlands': 'Europe',\n",
       " 'Peru': 'Americas',\n",
       " 'Chile': 'Americas',\n",
       " 'Kazakhstan': 'Asia',\n",
       " 'Romania': 'Europe',\n",
       " 'Sudan': 'Africa',\n",
       " 'Ghana': 'Africa',\n",
       " \"Côte d'Ivoire\": 'Africa',\n",
       " 'Uganda': 'Africa',\n",
       " 'Belgium': 'Europe',\n",
       " 'Sweden': 'Europe',\n",
       " 'Ecuador': 'Americas',\n",
       " 'Tanzania': 'Africa',\n",
       " 'United Arab Emirates': 'Asia',\n",
       " 'Kenya': 'Africa',\n",
       " 'Czech Republic': 'Europe',\n",
       " 'Switzerland': 'Europe',\n",
       " 'Greece': 'Europe',\n",
       " 'Azerbaijan': 'Asia',\n",
       " 'Austria': 'Europe',\n",
       " 'Portugal': 'Europe',\n",
       " 'Yemen': 'Asia',\n",
       " 'Hungary': 'Europe',\n",
       " 'Sri Lanka': 'Asia',\n",
       " 'Belarus': 'Europe',\n",
       " 'Democratic Republic of the Congo': 'Africa',\n",
       " 'Dominican Republic': 'Americas',\n",
       " 'Guatemala': 'Americas',\n",
       " 'Israel': 'Asia',\n",
       " 'Hong Kong, China': 'Asia',\n",
       " 'Jordan': 'Asia',\n",
       " 'Tunisia': 'Africa',\n",
       " 'Nepal': 'Asia',\n",
       " 'Syria': 'Asia',\n",
       " 'Serbia': 'Europe',\n",
       " 'Mozambique': 'Africa',\n",
       " 'Cuba': 'Americas',\n",
       " 'Cameroon': 'Africa',\n",
       " 'Denmark': 'Europe',\n",
       " 'Cambodia': 'Asia',\n",
       " 'Norway': 'Europe',\n",
       " 'Bolivia': 'Americas',\n",
       " 'Finland': 'Europe',\n",
       " 'Singapore': 'Asia',\n",
       " 'Zambia': 'Africa',\n",
       " 'Lebanon': 'Asia',\n",
       " 'Senegal': 'Africa',\n",
       " 'Bulgaria': 'Europe',\n",
       " 'Zimbabwe': 'Africa',\n",
       " 'Slovakia': 'Europe',\n",
       " 'New Zealand': 'Oceania',\n",
       " 'Angola': 'Africa',\n",
       " 'Paraguay': 'Americas',\n",
       " 'Afghanistan': 'Asia',\n",
       " 'Kuwait': 'Asia',\n",
       " 'Ireland': 'Europe',\n",
       " 'Oman': 'Asia',\n",
       " 'Costa Rica': 'Americas',\n",
       " 'Palestine': 'Asia',\n",
       " 'Moldova': 'Europe',\n",
       " 'Burkina Faso': 'Africa',\n",
       " 'Honduras': 'Americas',\n",
       " 'Croatia': 'Europe',\n",
       " 'Puerto Rico (U.S.)': 'Americas',\n",
       " 'Rwanda': 'Africa',\n",
       " 'Malawi': 'Africa',\n",
       " 'Qatar': 'Asia',\n",
       " 'Madagascar': 'Africa',\n",
       " 'Bosnia and Herzegovina': 'Europe',\n",
       " 'Panama': 'Americas',\n",
       " 'Georgia': 'Asia',\n",
       " 'Uruguay': 'Americas',\n",
       " 'Mali': 'Africa',\n",
       " 'Kyrgyzstan': 'Asia',\n",
       " 'Lithuania': 'Europe',\n",
       " 'Niger': 'Africa',\n",
       " 'Albania': 'Europe',\n",
       " 'Armenia': 'Asia',\n",
       " 'El Salvador': 'Americas',\n",
       " 'Tajikistan': 'Asia',\n",
       " 'Laos': 'Asia',\n",
       " 'Nicaragua': 'Americas',\n",
       " 'Slovenia': 'Europe',\n",
       " 'North Macedonia': 'Europe',\n",
       " 'Latvia': 'Europe',\n",
       " 'Benin': 'Africa',\n",
       " 'Guinea': 'Africa',\n",
       " 'Bahrain': 'Asia',\n",
       " 'Jamaica': 'Americas',\n",
       " 'Libya': 'Africa',\n",
       " 'Haiti': 'Americas',\n",
       " 'Turkmenistan': 'Asia',\n",
       " 'Estonia': 'Europe',\n",
       " 'Trinidad and Tobago': 'Americas',\n",
       " 'Gabon': 'Africa',\n",
       " 'South Sudan': 'Africa',\n",
       " 'Sierra Leone': 'Africa',\n",
       " 'Chad': 'Africa',\n",
       " 'Togo': 'Africa',\n",
       " 'Cyprus': 'Asia',\n",
       " 'Botswana': 'Africa',\n",
       " 'Namibia': 'Africa',\n",
       " 'Papua New Guinea': 'Oceania',\n",
       " 'Mauritania': 'Africa',\n",
       " 'Mongolia': 'Asia',\n",
       " 'Mauritius': 'Africa',\n",
       " 'Lesotho': 'Africa',\n",
       " 'Burundi': 'Africa',\n",
       " 'Luxembourg': 'Europe',\n",
       " 'Djibouti': 'Africa',\n",
       " 'Macau, China': 'Asia',\n",
       " 'Congo': 'Africa',\n",
       " 'Fiji': 'Oceania',\n",
       " 'Montenegro': 'Europe',\n",
       " 'Gambia': 'Africa',\n",
       " 'Eswatini': 'Africa',\n",
       " 'Brunei': 'Asia',\n",
       " 'Bhutan': 'Asia',\n",
       " 'Liberia': 'Africa',\n",
       " 'East Timor': 'Asia',\n",
       " 'Malta': 'Europe',\n",
       " 'Bahamas': 'Americas',\n",
       " 'Equatorial Guinea': 'Africa',\n",
       " 'Iceland': 'Europe',\n",
       " 'Cabo Verde': 'Africa',\n",
       " 'Somalia': 'Africa',\n",
       " 'Guyana': 'Americas',\n",
       " 'Suriname': 'Americas',\n",
       " 'Maldives': 'Asia',\n",
       " 'Barbados': 'Americas',\n",
       " 'New Caledonia': 'Oceania',\n",
       " 'French Polynesia': 'Oceania',\n",
       " 'Central African Republic': 'Africa',\n",
       " 'Belize': 'Americas',\n",
       " 'Guam': 'Oceania',\n",
       " 'Aruba (Netherlands)': 'Americas',\n",
       " 'Saint Lucia': 'Americas',\n",
       " 'Antigua and Barbuda': 'Americas',\n",
       " 'Andorra': 'Europe',\n",
       " 'Guinea-Bissau': 'Africa',\n",
       " 'Solomon Islands': 'Oceania',\n",
       " 'Saint Vincent and the Grenadines': 'Americas',\n",
       " 'Vanuatu': 'Oceania',\n",
       " 'Comoros': 'Africa',\n",
       " 'U.S. Virgin Islands': 'Americas',\n",
       " 'Eritrea': 'Africa',\n",
       " 'Samoa': 'Oceania',\n",
       " 'Grenada': 'Americas',\n",
       " 'São Tomé and Príncipe': 'Africa',\n",
       " 'Bermuda': 'Americas',\n",
       " 'Seychelles': 'Africa',\n",
       " 'Dominica': 'Americas',\n",
       " 'Cayman Islands': 'Americas',\n",
       " 'Faroe Islands': 'Europe',\n",
       " 'Saint Kitts and Nevis': 'Americas',\n",
       " 'Tonga': 'Oceania',\n",
       " 'Greenland': 'Americas',\n",
       " 'Jersey': 'Europe',\n",
       " 'Monaco': 'Europe',\n",
       " 'Micronesia': 'Oceania',\n",
       " 'Liechtenstein': 'Europe',\n",
       " 'Gibraltar': 'Europe',\n",
       " 'Marshall Islands': 'Oceania',\n",
       " 'San Marino': 'Europe',\n",
       " 'Kiribati': 'Oceania',\n",
       " 'British Virgin Islands': 'Americas',\n",
       " 'Anguilla': 'Americas',\n",
       " 'Nauru': 'Oceania',\n",
       " 'Tuvalu': 'Oceania',\n",
       " 'Saint Helena, Ascension and Tristan da Cunha': 'Africa',\n",
       " 'Falkland Islands': 'Americas',\n",
       " 'Montserrat': 'Americas',\n",
       " 'Wallis and Futuna': 'Oceania',\n",
       " 'Niue': 'Oceania'}"
      ]
     },
     "execution_count": 128,
     "metadata": {},
     "output_type": "execute_result"
    }
   ],
   "source": [
    "mapear(users, \"Country or area\", \"Region\")"
   ]
  },
  {
   "cell_type": "code",
   "execution_count": 129,
   "metadata": {},
   "outputs": [],
   "source": [
    "def retorna_continente(pais):\n",
    "    try:\n",
    "        for i in mapeamento_continente.keys():\n",
    "            if mapeamento_continente[pais] == mapeamento_continente[i]:\n",
    "                return mapeamento_continente[pais]\n",
    "    except:\n",
    "        return \"Não existe esse país em nossa base\""
   ]
  },
  {
   "cell_type": "code",
   "execution_count": 130,
   "metadata": {},
   "outputs": [
    {
     "name": "stdout",
     "output_type": "stream",
     "text": [
      "Americas\n",
      "Não existe esse país em nossa base\n"
     ]
    }
   ],
   "source": [
    "print(retorna_continente(\"Brazil\"))\n",
    "print(retorna_continente(\"Brasil\"))"
   ]
  },
  {
   "cell_type": "code",
   "execution_count": 141,
   "metadata": {},
   "outputs": [],
   "source": [
    "speed = pd.read_csv('D:\\BootCamp - Engenheiro de Dados IGTI\\Modulo 2\\Dados\\worldwide internet speed in 2022  - avg speed.csv', delimiter = ',')"
   ]
  },
  {
   "cell_type": "code",
   "execution_count": 142,
   "metadata": {},
   "outputs": [],
   "source": [
    "def mapa_pais_Continente():\n",
    "    speed[\"Continente\"] = speed.apply(lambda row: retorna_continente(row[\"Country\"]), axis=1)"
   ]
  },
  {
   "cell_type": "code",
   "execution_count": 143,
   "metadata": {},
   "outputs": [],
   "source": [
    "mapa_pais_Continente()"
   ]
  },
  {
   "cell_type": "code",
   "execution_count": 144,
   "metadata": {},
   "outputs": [
    {
     "data": {
      "text/html": [
       "<div>\n",
       "<style scoped>\n",
       "    .dataframe tbody tr th:only-of-type {\n",
       "        vertical-align: middle;\n",
       "    }\n",
       "\n",
       "    .dataframe tbody tr th {\n",
       "        vertical-align: top;\n",
       "    }\n",
       "\n",
       "    .dataframe thead th {\n",
       "        text-align: right;\n",
       "    }\n",
       "</style>\n",
       "<table border=\"1\" class=\"dataframe\">\n",
       "  <thead>\n",
       "    <tr style=\"text-align: right;\">\n",
       "      <th></th>\n",
       "      <th>Country</th>\n",
       "      <th>Avg \\n(Mbit/s)Ookla</th>\n",
       "      <th>Continente</th>\n",
       "    </tr>\n",
       "  </thead>\n",
       "  <tbody>\n",
       "    <tr>\n",
       "      <th>0</th>\n",
       "      <td>Canada</td>\n",
       "      <td>75.18</td>\n",
       "      <td>Americas</td>\n",
       "    </tr>\n",
       "    <tr>\n",
       "      <th>1</th>\n",
       "      <td>South Korea</td>\n",
       "      <td>117.95</td>\n",
       "      <td>Asia</td>\n",
       "    </tr>\n",
       "    <tr>\n",
       "      <th>2</th>\n",
       "      <td>Netherlands</td>\n",
       "      <td>108.33</td>\n",
       "      <td>Europe</td>\n",
       "    </tr>\n",
       "    <tr>\n",
       "      <th>3</th>\n",
       "      <td>Japan</td>\n",
       "      <td>44.05</td>\n",
       "      <td>Asia</td>\n",
       "    </tr>\n",
       "    <tr>\n",
       "      <th>4</th>\n",
       "      <td>Norway</td>\n",
       "      <td>134.73</td>\n",
       "      <td>Europe</td>\n",
       "    </tr>\n",
       "    <tr>\n",
       "      <th>...</th>\n",
       "      <td>...</td>\n",
       "      <td>...</td>\n",
       "      <td>...</td>\n",
       "    </tr>\n",
       "    <tr>\n",
       "      <th>139</th>\n",
       "      <td>Sudan</td>\n",
       "      <td>9.50</td>\n",
       "      <td>Africa</td>\n",
       "    </tr>\n",
       "    <tr>\n",
       "      <th>140</th>\n",
       "      <td>Cuba</td>\n",
       "      <td>9.10</td>\n",
       "      <td>Americas</td>\n",
       "    </tr>\n",
       "    <tr>\n",
       "      <th>141</th>\n",
       "      <td>Tajikistan</td>\n",
       "      <td>7.05</td>\n",
       "      <td>Asia</td>\n",
       "    </tr>\n",
       "    <tr>\n",
       "      <th>142</th>\n",
       "      <td>Venezuela</td>\n",
       "      <td>5.68</td>\n",
       "      <td>Americas</td>\n",
       "    </tr>\n",
       "    <tr>\n",
       "      <th>143</th>\n",
       "      <td>Palestine</td>\n",
       "      <td>4.89</td>\n",
       "      <td>Asia</td>\n",
       "    </tr>\n",
       "  </tbody>\n",
       "</table>\n",
       "<p>144 rows × 3 columns</p>\n",
       "</div>"
      ],
      "text/plain": [
       "         Country  Avg \\n(Mbit/s)Ookla Continente\n",
       "0         Canada                75.18   Americas\n",
       "1    South Korea               117.95       Asia\n",
       "2    Netherlands               108.33     Europe\n",
       "3          Japan                44.05       Asia\n",
       "4         Norway               134.73     Europe\n",
       "..           ...                  ...        ...\n",
       "139        Sudan                 9.50     Africa\n",
       "140         Cuba                 9.10   Americas\n",
       "141   Tajikistan                 7.05       Asia\n",
       "142    Venezuela                 5.68   Americas\n",
       "143    Palestine                 4.89       Asia\n",
       "\n",
       "[144 rows x 3 columns]"
      ]
     },
     "execution_count": 144,
     "metadata": {},
     "output_type": "execute_result"
    }
   ],
   "source": [
    "speed"
   ]
  },
  {
   "cell_type": "code",
   "execution_count": 135,
   "metadata": {},
   "outputs": [],
   "source": [
    "users[\"Internet users\"] = users[\"Internet users\"].str.replace(',', '').astype(int)"
   ]
  },
  {
   "cell_type": "code",
   "execution_count": 149,
   "metadata": {},
   "outputs": [],
   "source": [
    "users[\"Population\"] = users[\"Population\"].str.replace(\",\",\"\")"
   ]
  },
  {
   "cell_type": "code",
   "execution_count": 152,
   "metadata": {},
   "outputs": [],
   "source": [
    "users[\"Population\"] = users['Population'].fillna(0)"
   ]
  },
  {
   "cell_type": "code",
   "execution_count": 154,
   "metadata": {},
   "outputs": [],
   "source": [
    "users[\"Population\"] = users[\"Population\"].astype(int)"
   ]
  },
  {
   "cell_type": "code",
   "execution_count": 155,
   "metadata": {},
   "outputs": [
    {
     "data": {
      "text/plain": [
       "Country or area    object\n",
       "Subregion          object\n",
       "Region             object\n",
       "Internet users      int32\n",
       "Population          int32\n",
       "dtype: object"
      ]
     },
     "execution_count": 155,
     "metadata": {},
     "output_type": "execute_result"
    }
   ],
   "source": [
    "users.dtypes"
   ]
  }
 ],
 "metadata": {
  "kernelspec": {
   "display_name": "Python 3.8.10 64-bit",
   "language": "python",
   "name": "python3"
  },
  "language_info": {
   "codemirror_mode": {
    "name": "ipython",
    "version": 3
   },
   "file_extension": ".py",
   "mimetype": "text/x-python",
   "name": "python",
   "nbconvert_exporter": "python",
   "pygments_lexer": "ipython3",
   "version": "3.8.10"
  },
  "orig_nbformat": 4,
  "vscode": {
   "interpreter": {
    "hash": "b22fbcf701038fbd69ab999f6f6bc51b7229ffe45de2b01a8102f2ac05908b4a"
   }
  }
 },
 "nbformat": 4,
 "nbformat_minor": 2
}
