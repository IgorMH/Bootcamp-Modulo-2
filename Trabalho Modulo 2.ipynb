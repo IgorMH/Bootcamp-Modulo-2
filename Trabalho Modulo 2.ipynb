{
 "cells": [
  {
   "cell_type": "code",
   "execution_count": 108,
   "metadata": {},
   "outputs": [],
   "source": [
    "import pandas as pd"
   ]
  },
  {
   "cell_type": "code",
   "execution_count": 109,
   "metadata": {},
   "outputs": [],
   "source": [
    "users = pd.read_csv('D:\\BootCamp - Engenheiro de Dados IGTI\\Modulo 2\\Dados\\worldwide internet users - users.csv', delimiter = ',')"
   ]
  },
  {
   "cell_type": "code",
   "execution_count": 110,
   "metadata": {},
   "outputs": [],
   "source": [
    "mapeamento_continente = {}\n",
    "def mapear(dataframe, pais, continente):\n",
    "    global mapeamento_continente\n",
    "    mapeamento_continente = dict(zip(dataframe[pais],dataframe[continente]))\n",
    "    return mapeamento_continente\n"
   ]
  },
  {
   "cell_type": "code",
   "execution_count": 111,
   "metadata": {},
   "outputs": [
    {
     "data": {
      "text/plain": [
       "{'China': 'Asia',\n",
       " 'India': 'Asia',\n",
       " 'United States': 'Americas',\n",
       " 'Indonesia': 'Asia',\n",
       " 'Brazil': 'Americas',\n",
       " 'Nigeria': 'Africa',\n",
       " 'Bangladesh': 'Asia',\n",
       " 'Russia': 'Europe',\n",
       " 'Pakistan': 'Asia',\n",
       " 'Japan': 'Asia',\n",
       " 'Mexico': 'Americas',\n",
       " 'Iran': 'Asia',\n",
       " 'Germany': 'Europe',\n",
       " 'Philippines': 'Asia',\n",
       " 'Turkey': 'Europe',\n",
       " 'Vietnam': 'Asia',\n",
       " 'United Kingdom': 'Europe',\n",
       " 'France': 'Europe',\n",
       " 'Egypt': 'Africa',\n",
       " 'South Korea': 'Asia',\n",
       " 'Spain': 'Europe',\n",
       " 'Thailand': 'Asia',\n",
       " 'Italy': 'Europe',\n",
       " 'Poland': 'Europe',\n",
       " 'Canada': 'Americas',\n",
       " 'Argentina': 'Americas',\n",
       " 'South Africa': 'Africa',\n",
       " 'Colombia': 'Americas',\n",
       " 'Saudi Arabia': 'Asia',\n",
       " 'Malaysia': 'Asia',\n",
       " 'Ukraine': 'Europe',\n",
       " 'Algeria': 'Africa',\n",
       " 'Morocco': 'Africa',\n",
       " 'Taiwan': 'Asia',\n",
       " 'Australia': 'Oceania',\n",
       " 'Venezuela': 'Americas',\n",
       " 'Ethiopia': 'Africa',\n",
       " 'Iraq': 'Asia',\n",
       " 'Uzbekistan': 'Asia',\n",
       " 'Myanmar': 'Asia',\n",
       " 'Netherlands': 'Europe',\n",
       " 'Peru': 'Americas',\n",
       " 'Chile': 'Americas',\n",
       " 'Kazakhstan': 'Asia',\n",
       " 'Romania': 'Europe',\n",
       " 'Sudan': 'Africa',\n",
       " 'Ghana': 'Africa',\n",
       " \"Côte d'Ivoire\": 'Africa',\n",
       " 'Uganda': 'Africa',\n",
       " 'Belgium': 'Europe',\n",
       " 'Sweden': 'Europe',\n",
       " 'Ecuador': 'Americas',\n",
       " 'Tanzania': 'Africa',\n",
       " 'United Arab Emirates': 'Asia',\n",
       " 'Kenya': 'Africa',\n",
       " 'Czech Republic': 'Europe',\n",
       " 'Switzerland': 'Europe',\n",
       " 'Greece': 'Europe',\n",
       " 'Azerbaijan': 'Asia',\n",
       " 'Austria': 'Europe',\n",
       " 'Portugal': 'Europe',\n",
       " 'Yemen': 'Asia',\n",
       " 'Hungary': 'Europe',\n",
       " 'Sri Lanka': 'Asia',\n",
       " 'Belarus': 'Europe',\n",
       " 'Democratic Republic of the Congo': 'Africa',\n",
       " 'Dominican Republic': 'Americas',\n",
       " 'Guatemala': 'Americas',\n",
       " 'Israel': 'Asia',\n",
       " 'Hong Kong, China': 'Asia',\n",
       " 'Jordan': 'Asia',\n",
       " 'Tunisia': 'Africa',\n",
       " 'Nepal': 'Asia',\n",
       " 'Syria': 'Asia',\n",
       " 'Serbia': 'Europe',\n",
       " 'Mozambique': 'Africa',\n",
       " 'Cuba': 'Americas',\n",
       " 'Cameroon': 'Africa',\n",
       " 'Denmark': 'Europe',\n",
       " 'Cambodia': 'Asia',\n",
       " 'Norway': 'Europe',\n",
       " 'Bolivia': 'Americas',\n",
       " 'Finland': 'Europe',\n",
       " 'Singapore': 'Asia',\n",
       " 'Zambia': 'Africa',\n",
       " 'Lebanon': 'Asia',\n",
       " 'Senegal': 'Africa',\n",
       " 'Bulgaria': 'Europe',\n",
       " 'Zimbabwe': 'Africa',\n",
       " 'Slovakia': 'Europe',\n",
       " 'New Zealand': 'Oceania',\n",
       " 'Angola': 'Africa',\n",
       " 'Paraguay': 'Americas',\n",
       " 'Afghanistan': 'Asia',\n",
       " 'Kuwait': 'Asia',\n",
       " 'Ireland': 'Europe',\n",
       " 'Oman': 'Asia',\n",
       " 'Costa Rica': 'Americas',\n",
       " 'Palestine': 'Asia',\n",
       " 'Moldova': 'Europe',\n",
       " 'Burkina Faso': 'Africa',\n",
       " 'Honduras': 'Americas',\n",
       " 'Croatia': 'Europe',\n",
       " 'Puerto Rico (U.S.)': 'Americas',\n",
       " 'Rwanda': 'Africa',\n",
       " 'Malawi': 'Africa',\n",
       " 'Qatar': 'Asia',\n",
       " 'Madagascar': 'Africa',\n",
       " 'Bosnia and Herzegovina': 'Europe',\n",
       " 'Panama': 'Americas',\n",
       " 'Georgia': 'Asia',\n",
       " 'Uruguay': 'Americas',\n",
       " 'Mali': 'Africa',\n",
       " 'Kyrgyzstan': 'Asia',\n",
       " 'Lithuania': 'Europe',\n",
       " 'Niger': 'Africa',\n",
       " 'Albania': 'Europe',\n",
       " 'Armenia': 'Asia',\n",
       " 'El Salvador': 'Americas',\n",
       " 'Tajikistan': 'Asia',\n",
       " 'Laos': 'Asia',\n",
       " 'Nicaragua': 'Americas',\n",
       " 'Slovenia': 'Europe',\n",
       " 'North Macedonia': 'Europe',\n",
       " 'Latvia': 'Europe',\n",
       " 'Benin': 'Africa',\n",
       " 'Guinea': 'Africa',\n",
       " 'Bahrain': 'Asia',\n",
       " 'Jamaica': 'Americas',\n",
       " 'Libya': 'Africa',\n",
       " 'Haiti': 'Americas',\n",
       " 'Turkmenistan': 'Asia',\n",
       " 'Estonia': 'Europe',\n",
       " 'Trinidad and Tobago': 'Americas',\n",
       " 'Gabon': 'Africa',\n",
       " 'South Sudan': 'Africa',\n",
       " 'Sierra Leone': 'Africa',\n",
       " 'Chad': 'Africa',\n",
       " 'Togo': 'Africa',\n",
       " 'Cyprus': 'Asia',\n",
       " 'Botswana': 'Africa',\n",
       " 'Namibia': 'Africa',\n",
       " 'Papua New Guinea': 'Oceania',\n",
       " 'Mauritania': 'Africa',\n",
       " 'Mongolia': 'Asia',\n",
       " 'Mauritius': 'Africa',\n",
       " 'Lesotho': 'Africa',\n",
       " 'Burundi': 'Africa',\n",
       " 'Luxembourg': 'Europe',\n",
       " 'Djibouti': 'Africa',\n",
       " 'Macau, China': 'Asia',\n",
       " 'Congo': 'Africa',\n",
       " 'Fiji': 'Oceania',\n",
       " 'Montenegro': 'Europe',\n",
       " 'Gambia': 'Africa',\n",
       " 'Eswatini': 'Africa',\n",
       " 'Brunei': 'Asia',\n",
       " 'Bhutan': 'Asia',\n",
       " 'Liberia': 'Africa',\n",
       " 'East Timor': 'Asia',\n",
       " 'Malta': 'Europe',\n",
       " 'Bahamas': 'Americas',\n",
       " 'Equatorial Guinea': 'Africa',\n",
       " 'Iceland': 'Europe',\n",
       " 'Cabo Verde': 'Africa',\n",
       " 'Somalia': 'Africa',\n",
       " 'Guyana': 'Americas',\n",
       " 'Suriname': 'Americas',\n",
       " 'Maldives': 'Asia',\n",
       " 'Barbados': 'Americas',\n",
       " 'New Caledonia': 'Oceania',\n",
       " 'French Polynesia': 'Oceania',\n",
       " 'Central African Republic': 'Africa',\n",
       " 'Belize': 'Americas',\n",
       " 'Guam': 'Oceania',\n",
       " 'Aruba (Netherlands)': 'Americas',\n",
       " 'Saint Lucia': 'Americas',\n",
       " 'Antigua and Barbuda': 'Americas',\n",
       " 'Andorra': 'Europe',\n",
       " 'Guinea-Bissau': 'Africa',\n",
       " 'Solomon Islands': 'Oceania',\n",
       " 'Saint Vincent and the Grenadines': 'Americas',\n",
       " 'Vanuatu': 'Oceania',\n",
       " 'Comoros': 'Africa',\n",
       " 'U.S. Virgin Islands': 'Americas',\n",
       " 'Eritrea': 'Africa',\n",
       " 'Samoa': 'Oceania',\n",
       " 'Grenada': 'Americas',\n",
       " 'São Tomé and Príncipe': 'Africa',\n",
       " 'Bermuda': 'Americas',\n",
       " 'Seychelles': 'Africa',\n",
       " 'Dominica': 'Americas',\n",
       " 'Cayman Islands': 'Americas',\n",
       " 'Faroe Islands': 'Europe',\n",
       " 'Saint Kitts and Nevis': 'Americas',\n",
       " 'Tonga': 'Oceania',\n",
       " 'Greenland': 'Americas',\n",
       " 'Jersey': 'Europe',\n",
       " 'Monaco': 'Europe',\n",
       " 'Micronesia': 'Oceania',\n",
       " 'Liechtenstein': 'Europe',\n",
       " 'Gibraltar': 'Europe',\n",
       " 'Marshall Islands': 'Oceania',\n",
       " 'San Marino': 'Europe',\n",
       " 'Kiribati': 'Oceania',\n",
       " 'British Virgin Islands': 'Americas',\n",
       " 'Anguilla': 'Americas',\n",
       " 'Nauru': 'Oceania',\n",
       " 'Tuvalu': 'Oceania',\n",
       " 'Saint Helena, Ascension and Tristan da Cunha': 'Africa',\n",
       " 'Falkland Islands': 'Americas',\n",
       " 'Montserrat': 'Americas',\n",
       " 'Wallis and Futuna': 'Oceania',\n",
       " 'Niue': 'Oceania'}"
      ]
     },
     "execution_count": 111,
     "metadata": {},
     "output_type": "execute_result"
    }
   ],
   "source": [
    "mapear(users, \"Country or area\", \"Region\")"
   ]
  },
  {
   "cell_type": "code",
   "execution_count": 112,
   "metadata": {},
   "outputs": [],
   "source": [
    "def retorna_continente(pais):\n",
    "    try:\n",
    "        for i in mapeamento_continente.keys():\n",
    "            if mapeamento_continente[pais] == mapeamento_continente[i]:\n",
    "                return mapeamento_continente[pais]\n",
    "    except:\n",
    "        return \"Não existe esse país em nossa base\""
   ]
  },
  {
   "cell_type": "code",
   "execution_count": 113,
   "metadata": {},
   "outputs": [
    {
     "name": "stdout",
     "output_type": "stream",
     "text": [
      "Americas\n"
     ]
    }
   ],
   "source": [
    "print(retorna_continente(\"Brazil\"))"
   ]
  },
  {
   "cell_type": "code",
   "execution_count": 114,
   "metadata": {},
   "outputs": [],
   "source": [
    "speed = pd.read_csv('D:\\BootCamp - Engenheiro de Dados IGTI\\Modulo 2\\Dados\\worldwide internet speed in 2022  - avg speed.csv', delimiter = ',')"
   ]
  },
  {
   "cell_type": "code",
   "execution_count": 115,
   "metadata": {},
   "outputs": [],
   "source": [
    "def mapa_pais_Continente():\n",
    "    speed[\"Continente\"] = speed.apply(lambda row: retorna_continente(row[\"Country\"]), axis=1)"
   ]
  },
  {
   "cell_type": "code",
   "execution_count": 116,
   "metadata": {},
   "outputs": [],
   "source": [
    "mapa_pais_Continente()"
   ]
  },
  {
   "cell_type": "code",
   "execution_count": 117,
   "metadata": {},
   "outputs": [
    {
     "data": {
      "text/html": [
       "<div>\n",
       "<style scoped>\n",
       "    .dataframe tbody tr th:only-of-type {\n",
       "        vertical-align: middle;\n",
       "    }\n",
       "\n",
       "    .dataframe tbody tr th {\n",
       "        vertical-align: top;\n",
       "    }\n",
       "\n",
       "    .dataframe thead th {\n",
       "        text-align: right;\n",
       "    }\n",
       "</style>\n",
       "<table border=\"1\" class=\"dataframe\">\n",
       "  <thead>\n",
       "    <tr style=\"text-align: right;\">\n",
       "      <th></th>\n",
       "      <th>Country</th>\n",
       "      <th>Avg \\n(Mbit/s)Ookla</th>\n",
       "      <th>Continente</th>\n",
       "    </tr>\n",
       "  </thead>\n",
       "  <tbody>\n",
       "    <tr>\n",
       "      <th>0</th>\n",
       "      <td>Canada</td>\n",
       "      <td>75.18</td>\n",
       "      <td>Americas</td>\n",
       "    </tr>\n",
       "    <tr>\n",
       "      <th>1</th>\n",
       "      <td>South Korea</td>\n",
       "      <td>117.95</td>\n",
       "      <td>Asia</td>\n",
       "    </tr>\n",
       "    <tr>\n",
       "      <th>2</th>\n",
       "      <td>Netherlands</td>\n",
       "      <td>108.33</td>\n",
       "      <td>Europe</td>\n",
       "    </tr>\n",
       "    <tr>\n",
       "      <th>3</th>\n",
       "      <td>Japan</td>\n",
       "      <td>44.05</td>\n",
       "      <td>Asia</td>\n",
       "    </tr>\n",
       "    <tr>\n",
       "      <th>4</th>\n",
       "      <td>Norway</td>\n",
       "      <td>134.73</td>\n",
       "      <td>Europe</td>\n",
       "    </tr>\n",
       "    <tr>\n",
       "      <th>...</th>\n",
       "      <td>...</td>\n",
       "      <td>...</td>\n",
       "      <td>...</td>\n",
       "    </tr>\n",
       "    <tr>\n",
       "      <th>139</th>\n",
       "      <td>Sudan</td>\n",
       "      <td>9.50</td>\n",
       "      <td>Africa</td>\n",
       "    </tr>\n",
       "    <tr>\n",
       "      <th>140</th>\n",
       "      <td>Cuba</td>\n",
       "      <td>9.10</td>\n",
       "      <td>Americas</td>\n",
       "    </tr>\n",
       "    <tr>\n",
       "      <th>141</th>\n",
       "      <td>Tajikistan</td>\n",
       "      <td>7.05</td>\n",
       "      <td>Asia</td>\n",
       "    </tr>\n",
       "    <tr>\n",
       "      <th>142</th>\n",
       "      <td>Venezuela</td>\n",
       "      <td>5.68</td>\n",
       "      <td>Americas</td>\n",
       "    </tr>\n",
       "    <tr>\n",
       "      <th>143</th>\n",
       "      <td>Palestine</td>\n",
       "      <td>4.89</td>\n",
       "      <td>Asia</td>\n",
       "    </tr>\n",
       "  </tbody>\n",
       "</table>\n",
       "<p>144 rows × 3 columns</p>\n",
       "</div>"
      ],
      "text/plain": [
       "         Country  Avg \\n(Mbit/s)Ookla Continente\n",
       "0         Canada                75.18   Americas\n",
       "1    South Korea               117.95       Asia\n",
       "2    Netherlands               108.33     Europe\n",
       "3          Japan                44.05       Asia\n",
       "4         Norway               134.73     Europe\n",
       "..           ...                  ...        ...\n",
       "139        Sudan                 9.50     Africa\n",
       "140         Cuba                 9.10   Americas\n",
       "141   Tajikistan                 7.05       Asia\n",
       "142    Venezuela                 5.68   Americas\n",
       "143    Palestine                 4.89       Asia\n",
       "\n",
       "[144 rows x 3 columns]"
      ]
     },
     "execution_count": 117,
     "metadata": {},
     "output_type": "execute_result"
    }
   ],
   "source": [
    "speed"
   ]
  },
  {
   "cell_type": "code",
   "execution_count": 118,
   "metadata": {},
   "outputs": [],
   "source": [
    "users = users[(~users['Population'].isna()) & (~users['Internet users'].isna())]"
   ]
  },
  {
   "cell_type": "code",
   "execution_count": 122,
   "metadata": {},
   "outputs": [],
   "source": [
    "users[\"Internet users\"] = users[\"Internet users\"].str.replace(\",\",\"\")"
   ]
  },
  {
   "cell_type": "code",
   "execution_count": 123,
   "metadata": {},
   "outputs": [],
   "source": [
    "users[\"Internet users\"] = users[\"Internet users\"].astype(int)"
   ]
  },
  {
   "cell_type": "code",
   "execution_count": 120,
   "metadata": {},
   "outputs": [],
   "source": [
    "users[\"Population\"] = users[\"Population\"].str.replace(\",\",\"\")"
   ]
  },
  {
   "cell_type": "code",
   "execution_count": 90,
   "metadata": {},
   "outputs": [],
   "source": [
    "users[\"Population\"] = users[\"Population\"].fillna(0)"
   ]
  },
  {
   "cell_type": "code",
   "execution_count": 121,
   "metadata": {},
   "outputs": [],
   "source": [
    "users[\"Population\"] = users[\"Population\"].astype(int)"
   ]
  },
  {
   "cell_type": "code",
   "execution_count": 92,
   "metadata": {},
   "outputs": [
    {
     "data": {
      "text/plain": [
       "214"
      ]
     },
     "execution_count": 92,
     "metadata": {},
     "output_type": "execute_result"
    }
   ],
   "source": [
    "users[\"Country or area\"].nunique()"
   ]
  },
  {
   "cell_type": "code",
   "execution_count": 93,
   "metadata": {},
   "outputs": [
    {
     "name": "stdout",
     "output_type": "stream",
     "text": [
      "Americas\n",
      "Asia\n",
      "Asia\n",
      "Asia\n",
      "Oceania\n"
     ]
    }
   ],
   "source": [
    "print(retorna_continente(\"Brazil\"))\n",
    "print(retorna_continente(\"Israel\"))\n",
    "print(retorna_continente(\"China\"))\n",
    "print(retorna_continente(\"Kyrgyzstan\"))\n",
    "print(retorna_continente(\"Australia\"))"
   ]
  },
  {
   "cell_type": "code",
   "execution_count": 137,
   "metadata": {},
   "outputs": [
    {
     "data": {
      "text/html": [
       "<div>\n",
       "<style scoped>\n",
       "    .dataframe tbody tr th:only-of-type {\n",
       "        vertical-align: middle;\n",
       "    }\n",
       "\n",
       "    .dataframe tbody tr th {\n",
       "        vertical-align: top;\n",
       "    }\n",
       "\n",
       "    .dataframe thead th {\n",
       "        text-align: right;\n",
       "    }\n",
       "</style>\n",
       "<table border=\"1\" class=\"dataframe\">\n",
       "  <thead>\n",
       "    <tr style=\"text-align: right;\">\n",
       "      <th></th>\n",
       "      <th>Avg \\n(Mbit/s)Ookla</th>\n",
       "    </tr>\n",
       "  </thead>\n",
       "  <tbody>\n",
       "    <tr>\n",
       "      <th>count</th>\n",
       "      <td>143.000000</td>\n",
       "    </tr>\n",
       "    <tr>\n",
       "      <th>mean</th>\n",
       "      <td>36.367273</td>\n",
       "    </tr>\n",
       "    <tr>\n",
       "      <th>std</th>\n",
       "      <td>27.979997</td>\n",
       "    </tr>\n",
       "    <tr>\n",
       "      <th>min</th>\n",
       "      <td>4.890000</td>\n",
       "    </tr>\n",
       "    <tr>\n",
       "      <th>25%</th>\n",
       "      <td>16.710000</td>\n",
       "    </tr>\n",
       "    <tr>\n",
       "      <th>50%</th>\n",
       "      <td>25.990000</td>\n",
       "    </tr>\n",
       "    <tr>\n",
       "      <th>75%</th>\n",
       "      <td>48.795000</td>\n",
       "    </tr>\n",
       "    <tr>\n",
       "      <th>max</th>\n",
       "      <td>135.350000</td>\n",
       "    </tr>\n",
       "  </tbody>\n",
       "</table>\n",
       "</div>"
      ],
      "text/plain": [
       "       Avg \\n(Mbit/s)Ookla\n",
       "count           143.000000\n",
       "mean             36.367273\n",
       "std              27.979997\n",
       "min               4.890000\n",
       "25%              16.710000\n",
       "50%              25.990000\n",
       "75%              48.795000\n",
       "max             135.350000"
      ]
     },
     "execution_count": 137,
     "metadata": {},
     "output_type": "execute_result"
    }
   ],
   "source": [
    "speed.describe()"
   ]
  },
  {
   "cell_type": "code",
   "execution_count": 138,
   "metadata": {},
   "outputs": [],
   "source": [
    "paises_america = users[users[\"Region\"] == \"Americas\"][\"Country or area\"].unique()\n",
    "paises_europa = users[users[\"Region\"] == \"Europe\"][\"Country or area\"].unique()\n",
    "paises_asia = users[users[\"Region\"] == \"Asia\"][\"Country or area\"].unique()\n",
    "paises_africa = users[users[\"Region\"] == \"Africa\"][\"Country or area\"].unique()\n",
    "paises_oceania = users[users[\"Region\"] == \"Oceania\"][\"Country or area\"].unique()"
   ]
  },
  {
   "cell_type": "code",
   "execution_count": 139,
   "metadata": {},
   "outputs": [
    {
     "data": {
      "text/html": [
       "<div>\n",
       "<style scoped>\n",
       "    .dataframe tbody tr th:only-of-type {\n",
       "        vertical-align: middle;\n",
       "    }\n",
       "\n",
       "    .dataframe tbody tr th {\n",
       "        vertical-align: top;\n",
       "    }\n",
       "\n",
       "    .dataframe thead th {\n",
       "        text-align: right;\n",
       "    }\n",
       "</style>\n",
       "<table border=\"1\" class=\"dataframe\">\n",
       "  <thead>\n",
       "    <tr style=\"text-align: right;\">\n",
       "      <th></th>\n",
       "      <th>Avg \\n(Mbit/s)Ookla</th>\n",
       "    </tr>\n",
       "  </thead>\n",
       "  <tbody>\n",
       "    <tr>\n",
       "      <th>count</th>\n",
       "      <td>26.000000</td>\n",
       "    </tr>\n",
       "    <tr>\n",
       "      <th>mean</th>\n",
       "      <td>24.131154</td>\n",
       "    </tr>\n",
       "    <tr>\n",
       "      <th>std</th>\n",
       "      <td>15.256696</td>\n",
       "    </tr>\n",
       "    <tr>\n",
       "      <th>min</th>\n",
       "      <td>5.680000</td>\n",
       "    </tr>\n",
       "    <tr>\n",
       "      <th>25%</th>\n",
       "      <td>15.987500</td>\n",
       "    </tr>\n",
       "    <tr>\n",
       "      <th>50%</th>\n",
       "      <td>20.670000</td>\n",
       "    </tr>\n",
       "    <tr>\n",
       "      <th>75%</th>\n",
       "      <td>27.970000</td>\n",
       "    </tr>\n",
       "    <tr>\n",
       "      <th>max</th>\n",
       "      <td>75.180000</td>\n",
       "    </tr>\n",
       "  </tbody>\n",
       "</table>\n",
       "</div>"
      ],
      "text/plain": [
       "       Avg \\n(Mbit/s)Ookla\n",
       "count            26.000000\n",
       "mean             24.131154\n",
       "std              15.256696\n",
       "min               5.680000\n",
       "25%              15.987500\n",
       "50%              20.670000\n",
       "75%              27.970000\n",
       "max              75.180000"
      ]
     },
     "execution_count": 139,
     "metadata": {},
     "output_type": "execute_result"
    }
   ],
   "source": [
    "speed[speed[\"Country\"].isin(paises_america)].describe()"
   ]
  },
  {
   "cell_type": "code",
   "execution_count": 140,
   "metadata": {},
   "outputs": [
    {
     "data": {
      "text/html": [
       "<div>\n",
       "<style scoped>\n",
       "    .dataframe tbody tr th:only-of-type {\n",
       "        vertical-align: middle;\n",
       "    }\n",
       "\n",
       "    .dataframe tbody tr th {\n",
       "        vertical-align: top;\n",
       "    }\n",
       "\n",
       "    .dataframe thead th {\n",
       "        text-align: right;\n",
       "    }\n",
       "</style>\n",
       "<table border=\"1\" class=\"dataframe\">\n",
       "  <thead>\n",
       "    <tr style=\"text-align: right;\">\n",
       "      <th></th>\n",
       "      <th>Avg \\n(Mbit/s)Ookla</th>\n",
       "    </tr>\n",
       "  </thead>\n",
       "  <tbody>\n",
       "    <tr>\n",
       "      <th>count</th>\n",
       "      <td>39.000000</td>\n",
       "    </tr>\n",
       "    <tr>\n",
       "      <th>mean</th>\n",
       "      <td>54.161282</td>\n",
       "    </tr>\n",
       "    <tr>\n",
       "      <th>std</th>\n",
       "      <td>26.311361</td>\n",
       "    </tr>\n",
       "    <tr>\n",
       "      <th>min</th>\n",
       "      <td>9.990000</td>\n",
       "    </tr>\n",
       "    <tr>\n",
       "      <th>25%</th>\n",
       "      <td>37.025000</td>\n",
       "    </tr>\n",
       "    <tr>\n",
       "      <th>50%</th>\n",
       "      <td>49.660000</td>\n",
       "    </tr>\n",
       "    <tr>\n",
       "      <th>75%</th>\n",
       "      <td>64.265000</td>\n",
       "    </tr>\n",
       "    <tr>\n",
       "      <th>max</th>\n",
       "      <td>134.730000</td>\n",
       "    </tr>\n",
       "  </tbody>\n",
       "</table>\n",
       "</div>"
      ],
      "text/plain": [
       "       Avg \\n(Mbit/s)Ookla\n",
       "count            39.000000\n",
       "mean             54.161282\n",
       "std              26.311361\n",
       "min               9.990000\n",
       "25%              37.025000\n",
       "50%              49.660000\n",
       "75%              64.265000\n",
       "max             134.730000"
      ]
     },
     "execution_count": 140,
     "metadata": {},
     "output_type": "execute_result"
    }
   ],
   "source": [
    "speed[speed[\"Country\"].isin(paises_europa)].describe()"
   ]
  },
  {
   "cell_type": "code",
   "execution_count": 141,
   "metadata": {},
   "outputs": [
    {
     "data": {
      "text/html": [
       "<div>\n",
       "<style scoped>\n",
       "    .dataframe tbody tr th:only-of-type {\n",
       "        vertical-align: middle;\n",
       "    }\n",
       "\n",
       "    .dataframe tbody tr th {\n",
       "        vertical-align: top;\n",
       "    }\n",
       "\n",
       "    .dataframe thead th {\n",
       "        text-align: right;\n",
       "    }\n",
       "</style>\n",
       "<table border=\"1\" class=\"dataframe\">\n",
       "  <thead>\n",
       "    <tr style=\"text-align: right;\">\n",
       "      <th></th>\n",
       "      <th>Avg \\n(Mbit/s)Ookla</th>\n",
       "    </tr>\n",
       "  </thead>\n",
       "  <tbody>\n",
       "    <tr>\n",
       "      <th>count</th>\n",
       "      <td>44.000000</td>\n",
       "    </tr>\n",
       "    <tr>\n",
       "      <th>mean</th>\n",
       "      <td>38.976818</td>\n",
       "    </tr>\n",
       "    <tr>\n",
       "      <th>std</th>\n",
       "      <td>33.413290</td>\n",
       "    </tr>\n",
       "    <tr>\n",
       "      <th>min</th>\n",
       "      <td>5.500000</td>\n",
       "    </tr>\n",
       "    <tr>\n",
       "      <th>25%</th>\n",
       "      <td>16.432500</td>\n",
       "    </tr>\n",
       "    <tr>\n",
       "      <th>50%</th>\n",
       "      <td>24.480000</td>\n",
       "    </tr>\n",
       "    <tr>\n",
       "      <th>75%</th>\n",
       "      <td>49.217500</td>\n",
       "    </tr>\n",
       "    <tr>\n",
       "      <th>max</th>\n",
       "      <td>135.350000</td>\n",
       "    </tr>\n",
       "  </tbody>\n",
       "</table>\n",
       "</div>"
      ],
      "text/plain": [
       "       Avg \\n(Mbit/s)Ookla\n",
       "count            44.000000\n",
       "mean             38.976818\n",
       "std              33.413290\n",
       "min               5.500000\n",
       "25%              16.432500\n",
       "50%              24.480000\n",
       "75%              49.217500\n",
       "max             135.350000"
      ]
     },
     "execution_count": 141,
     "metadata": {},
     "output_type": "execute_result"
    }
   ],
   "source": [
    "speed[speed[\"Country\"].isin(paises_asia)].describe()"
   ]
  },
  {
   "cell_type": "code",
   "execution_count": 142,
   "metadata": {},
   "outputs": [
    {
     "data": {
      "text/html": [
       "<div>\n",
       "<style scoped>\n",
       "    .dataframe tbody tr th:only-of-type {\n",
       "        vertical-align: middle;\n",
       "    }\n",
       "\n",
       "    .dataframe tbody tr th {\n",
       "        vertical-align: top;\n",
       "    }\n",
       "\n",
       "    .dataframe thead th {\n",
       "        text-align: right;\n",
       "    }\n",
       "</style>\n",
       "<table border=\"1\" class=\"dataframe\">\n",
       "  <thead>\n",
       "    <tr style=\"text-align: right;\">\n",
       "      <th></th>\n",
       "      <th>Avg \\n(Mbit/s)Ookla</th>\n",
       "    </tr>\n",
       "  </thead>\n",
       "  <tbody>\n",
       "    <tr>\n",
       "      <th>count</th>\n",
       "      <td>25.000000</td>\n",
       "    </tr>\n",
       "    <tr>\n",
       "      <th>mean</th>\n",
       "      <td>17.792800</td>\n",
       "    </tr>\n",
       "    <tr>\n",
       "      <th>std</th>\n",
       "      <td>7.213418</td>\n",
       "    </tr>\n",
       "    <tr>\n",
       "      <th>min</th>\n",
       "      <td>7.950000</td>\n",
       "    </tr>\n",
       "    <tr>\n",
       "      <th>25%</th>\n",
       "      <td>11.880000</td>\n",
       "    </tr>\n",
       "    <tr>\n",
       "      <th>50%</th>\n",
       "      <td>17.950000</td>\n",
       "    </tr>\n",
       "    <tr>\n",
       "      <th>75%</th>\n",
       "      <td>21.440000</td>\n",
       "    </tr>\n",
       "    <tr>\n",
       "      <th>max</th>\n",
       "      <td>34.420000</td>\n",
       "    </tr>\n",
       "  </tbody>\n",
       "</table>\n",
       "</div>"
      ],
      "text/plain": [
       "       Avg \\n(Mbit/s)Ookla\n",
       "count            25.000000\n",
       "mean             17.792800\n",
       "std               7.213418\n",
       "min               7.950000\n",
       "25%              11.880000\n",
       "50%              17.950000\n",
       "75%              21.440000\n",
       "max              34.420000"
      ]
     },
     "execution_count": 142,
     "metadata": {},
     "output_type": "execute_result"
    }
   ],
   "source": [
    "speed[speed[\"Country\"].isin(paises_africa)].describe()"
   ]
  },
  {
   "cell_type": "code",
   "execution_count": 143,
   "metadata": {},
   "outputs": [
    {
     "data": {
      "text/html": [
       "<div>\n",
       "<style scoped>\n",
       "    .dataframe tbody tr th:only-of-type {\n",
       "        vertical-align: middle;\n",
       "    }\n",
       "\n",
       "    .dataframe tbody tr th {\n",
       "        vertical-align: top;\n",
       "    }\n",
       "\n",
       "    .dataframe thead th {\n",
       "        text-align: right;\n",
       "    }\n",
       "</style>\n",
       "<table border=\"1\" class=\"dataframe\">\n",
       "  <thead>\n",
       "    <tr style=\"text-align: right;\">\n",
       "      <th></th>\n",
       "      <th>Avg \\n(Mbit/s)Ookla</th>\n",
       "    </tr>\n",
       "  </thead>\n",
       "  <tbody>\n",
       "    <tr>\n",
       "      <th>count</th>\n",
       "      <td>3.000000</td>\n",
       "    </tr>\n",
       "    <tr>\n",
       "      <th>mean</th>\n",
       "      <td>50.666667</td>\n",
       "    </tr>\n",
       "    <tr>\n",
       "      <th>std</th>\n",
       "      <td>25.285542</td>\n",
       "    </tr>\n",
       "    <tr>\n",
       "      <th>min</th>\n",
       "      <td>25.990000</td>\n",
       "    </tr>\n",
       "    <tr>\n",
       "      <th>25%</th>\n",
       "      <td>37.740000</td>\n",
       "    </tr>\n",
       "    <tr>\n",
       "      <th>50%</th>\n",
       "      <td>49.490000</td>\n",
       "    </tr>\n",
       "    <tr>\n",
       "      <th>75%</th>\n",
       "      <td>63.005000</td>\n",
       "    </tr>\n",
       "    <tr>\n",
       "      <th>max</th>\n",
       "      <td>76.520000</td>\n",
       "    </tr>\n",
       "  </tbody>\n",
       "</table>\n",
       "</div>"
      ],
      "text/plain": [
       "       Avg \\n(Mbit/s)Ookla\n",
       "count             3.000000\n",
       "mean             50.666667\n",
       "std              25.285542\n",
       "min              25.990000\n",
       "25%              37.740000\n",
       "50%              49.490000\n",
       "75%              63.005000\n",
       "max              76.520000"
      ]
     },
     "execution_count": 143,
     "metadata": {},
     "output_type": "execute_result"
    }
   ],
   "source": [
    "speed[speed[\"Country\"].isin(paises_oceania)].describe()"
   ]
  },
  {
   "cell_type": "code",
   "execution_count": 144,
   "metadata": {},
   "outputs": [],
   "source": [
    "users[\"percent_users_pop\"] = (users[\"Internet users\"]/users[\"Population\"])*100"
   ]
  },
  {
   "cell_type": "code",
   "execution_count": 145,
   "metadata": {},
   "outputs": [
    {
     "data": {
      "text/html": [
       "<div>\n",
       "<style scoped>\n",
       "    .dataframe tbody tr th:only-of-type {\n",
       "        vertical-align: middle;\n",
       "    }\n",
       "\n",
       "    .dataframe tbody tr th {\n",
       "        vertical-align: top;\n",
       "    }\n",
       "\n",
       "    .dataframe thead th {\n",
       "        text-align: right;\n",
       "    }\n",
       "</style>\n",
       "<table border=\"1\" class=\"dataframe\">\n",
       "  <thead>\n",
       "    <tr style=\"text-align: right;\">\n",
       "      <th></th>\n",
       "      <th>Country or area</th>\n",
       "      <th>Subregion</th>\n",
       "      <th>Region</th>\n",
       "      <th>Internet users</th>\n",
       "      <th>Population</th>\n",
       "      <th>percent_users_pop</th>\n",
       "    </tr>\n",
       "  </thead>\n",
       "  <tbody>\n",
       "    <tr>\n",
       "      <th>0</th>\n",
       "      <td>China</td>\n",
       "      <td>Eastern Asia</td>\n",
       "      <td>Asia</td>\n",
       "      <td>1010740000</td>\n",
       "      <td>1427647786</td>\n",
       "      <td>70.797574</td>\n",
       "    </tr>\n",
       "    <tr>\n",
       "      <th>1</th>\n",
       "      <td>India</td>\n",
       "      <td>Southern Asia</td>\n",
       "      <td>Asia</td>\n",
       "      <td>833710000</td>\n",
       "      <td>1352642280</td>\n",
       "      <td>61.635660</td>\n",
       "    </tr>\n",
       "    <tr>\n",
       "      <th>2</th>\n",
       "      <td>United States</td>\n",
       "      <td>Northern America</td>\n",
       "      <td>Americas</td>\n",
       "      <td>312320000</td>\n",
       "      <td>327096265</td>\n",
       "      <td>95.482594</td>\n",
       "    </tr>\n",
       "    <tr>\n",
       "      <th>3</th>\n",
       "      <td>Indonesia</td>\n",
       "      <td>South-eastern Asia</td>\n",
       "      <td>Asia</td>\n",
       "      <td>196000000</td>\n",
       "      <td>267670543</td>\n",
       "      <td>73.224344</td>\n",
       "    </tr>\n",
       "    <tr>\n",
       "      <th>4</th>\n",
       "      <td>Brazil</td>\n",
       "      <td>South America</td>\n",
       "      <td>Americas</td>\n",
       "      <td>160010801</td>\n",
       "      <td>209469323</td>\n",
       "      <td>76.388656</td>\n",
       "    </tr>\n",
       "    <tr>\n",
       "      <th>...</th>\n",
       "      <td>...</td>\n",
       "      <td>...</td>\n",
       "      <td>...</td>\n",
       "      <td>...</td>\n",
       "      <td>...</td>\n",
       "      <td>...</td>\n",
       "    </tr>\n",
       "    <tr>\n",
       "      <th>209</th>\n",
       "      <td>Saint Helena, Ascension and Tristan da Cunha</td>\n",
       "      <td>Western Africa</td>\n",
       "      <td>Africa</td>\n",
       "      <td>2906</td>\n",
       "      <td>6035</td>\n",
       "      <td>48.152444</td>\n",
       "    </tr>\n",
       "    <tr>\n",
       "      <th>210</th>\n",
       "      <td>Falkland Islands</td>\n",
       "      <td>South America</td>\n",
       "      <td>Americas</td>\n",
       "      <td>2881</td>\n",
       "      <td>3234</td>\n",
       "      <td>89.084725</td>\n",
       "    </tr>\n",
       "    <tr>\n",
       "      <th>211</th>\n",
       "      <td>Montserrat</td>\n",
       "      <td>Caribbean</td>\n",
       "      <td>Americas</td>\n",
       "      <td>2833</td>\n",
       "      <td>4993</td>\n",
       "      <td>56.739435</td>\n",
       "    </tr>\n",
       "    <tr>\n",
       "      <th>212</th>\n",
       "      <td>Wallis and Futuna</td>\n",
       "      <td>Polynesia</td>\n",
       "      <td>Oceania</td>\n",
       "      <td>1383</td>\n",
       "      <td>11661</td>\n",
       "      <td>11.860046</td>\n",
       "    </tr>\n",
       "    <tr>\n",
       "      <th>213</th>\n",
       "      <td>Niue</td>\n",
       "      <td>Polynesia</td>\n",
       "      <td>Oceania</td>\n",
       "      <td>1034</td>\n",
       "      <td>1620</td>\n",
       "      <td>63.827160</td>\n",
       "    </tr>\n",
       "  </tbody>\n",
       "</table>\n",
       "<p>212 rows × 6 columns</p>\n",
       "</div>"
      ],
      "text/plain": [
       "                                  Country or area           Subregion  \\\n",
       "0                                           China        Eastern Asia   \n",
       "1                                           India       Southern Asia   \n",
       "2                                   United States    Northern America   \n",
       "3                                       Indonesia  South-eastern Asia   \n",
       "4                                          Brazil       South America   \n",
       "..                                            ...                 ...   \n",
       "209  Saint Helena, Ascension and Tristan da Cunha      Western Africa   \n",
       "210                              Falkland Islands       South America   \n",
       "211                                    Montserrat           Caribbean   \n",
       "212                             Wallis and Futuna           Polynesia   \n",
       "213                                          Niue           Polynesia   \n",
       "\n",
       "       Region  Internet users  Population  percent_users_pop  \n",
       "0        Asia      1010740000  1427647786          70.797574  \n",
       "1        Asia       833710000  1352642280          61.635660  \n",
       "2    Americas       312320000   327096265          95.482594  \n",
       "3        Asia       196000000   267670543          73.224344  \n",
       "4    Americas       160010801   209469323          76.388656  \n",
       "..        ...             ...         ...                ...  \n",
       "209    Africa            2906        6035          48.152444  \n",
       "210  Americas            2881        3234          89.084725  \n",
       "211  Americas            2833        4993          56.739435  \n",
       "212   Oceania            1383       11661          11.860046  \n",
       "213   Oceania            1034        1620          63.827160  \n",
       "\n",
       "[212 rows x 6 columns]"
      ]
     },
     "execution_count": 145,
     "metadata": {},
     "output_type": "execute_result"
    }
   ],
   "source": [
    "users"
   ]
  },
  {
   "cell_type": "code",
   "execution_count": 151,
   "metadata": {},
   "outputs": [
    {
     "data": {
      "text/plain": [
       "count    212.000000\n",
       "mean      57.698081\n",
       "std       28.595919\n",
       "min        1.923143\n",
       "25%       31.432047\n",
       "50%       63.766783\n",
       "75%       80.935560\n",
       "max       99.175207\n",
       "Name: percent_users_pop, dtype: float64"
      ]
     },
     "execution_count": 151,
     "metadata": {},
     "output_type": "execute_result"
    }
   ],
   "source": [
    "users[\"percent_users_pop\"].describe()"
   ]
  },
  {
   "cell_type": "code",
   "execution_count": 160,
   "metadata": {},
   "outputs": [
    {
     "data": {
      "text/plain": [
       "count    45.000000\n",
       "mean     64.717349\n",
       "std      19.883431\n",
       "min      12.172654\n",
       "25%      49.734427\n",
       "50%      68.124437\n",
       "75%      79.365311\n",
       "max      96.636591\n",
       "Name: percent_users_pop, dtype: float64"
      ]
     },
     "execution_count": 160,
     "metadata": {},
     "output_type": "execute_result"
    }
   ],
   "source": [
    "users[users[\"Region\"] == \"Americas\"][\"percent_users_pop\"].describe()"
   ]
  },
  {
   "cell_type": "code",
   "execution_count": 161,
   "metadata": {},
   "outputs": [
    {
     "data": {
      "text/plain": [
       "count    48.000000\n",
       "mean     64.337629\n",
       "std      25.150531\n",
       "min      10.944266\n",
       "25%      46.098805\n",
       "50%      71.073834\n",
       "75%      82.415975\n",
       "max      97.981419\n",
       "Name: percent_users_pop, dtype: float64"
      ]
     },
     "execution_count": 161,
     "metadata": {},
     "output_type": "execute_result"
    }
   ],
   "source": [
    "users[users[\"Region\"] == \"Asia\"][\"percent_users_pop\"].describe()\n"
   ]
  },
  {
   "cell_type": "code",
   "execution_count": 162,
   "metadata": {},
   "outputs": [
    {
     "data": {
      "text/plain": [
       "count    46.000000\n",
       "mean     83.813647\n",
       "std      10.747524\n",
       "min      59.493858\n",
       "25%      76.159049\n",
       "50%      84.233600\n",
       "75%      93.482119\n",
       "max      99.175207\n",
       "Name: percent_users_pop, dtype: float64"
      ]
     },
     "execution_count": 162,
     "metadata": {},
     "output_type": "execute_result"
    }
   ],
   "source": [
    "users[users[\"Region\"] == \"Europe\"][\"percent_users_pop\"].describe()"
   ]
  },
  {
   "cell_type": "code",
   "execution_count": 163,
   "metadata": {},
   "outputs": [
    {
     "data": {
      "text/plain": [
       "count    55.000000\n",
       "mean     27.722245\n",
       "std      19.472764\n",
       "min       1.923143\n",
       "25%      11.947470\n",
       "50%      21.604426\n",
       "75%      45.319032\n",
       "max      69.535903\n",
       "Name: percent_users_pop, dtype: float64"
      ]
     },
     "execution_count": 163,
     "metadata": {},
     "output_type": "execute_result"
    }
   ],
   "source": [
    "users[users[\"Region\"] == \"Africa\"][\"percent_users_pop\"].describe()"
   ]
  },
  {
   "cell_type": "code",
   "execution_count": 164,
   "metadata": {},
   "outputs": [
    {
     "data": {
      "text/plain": [
       "count    18.000000\n",
       "mean     47.297506\n",
       "std      27.297233\n",
       "min      10.747389\n",
       "25%      26.475788\n",
       "50%      45.572122\n",
       "75%      71.527971\n",
       "max      90.095614\n",
       "Name: percent_users_pop, dtype: float64"
      ]
     },
     "execution_count": 164,
     "metadata": {},
     "output_type": "execute_result"
    }
   ],
   "source": [
    "users[users[\"Region\"] == \"Oceania\"][\"percent_users_pop\"].describe()"
   ]
  },
  {
   "cell_type": "code",
   "execution_count": 165,
   "metadata": {},
   "outputs": [
    {
     "data": {
      "text/plain": [
       "203    59.493858\n",
       "87     63.706406\n",
       "44     64.316029\n",
       "102    67.631908\n",
       "108    69.797002\n",
       "74     70.232691\n",
       "30     70.288592\n",
       "116    73.032566\n",
       "60     74.317459\n",
       "64     74.563806\n",
       "57     75.301775\n",
       "99     76.106259\n",
       "123    76.317418\n",
       "62     76.861167\n",
       "55     78.370346\n",
       "160    78.536499\n",
       "122    78.971209\n",
       "114    80.086989\n",
       "153    80.447238\n",
       "89     81.549873\n",
       "124    82.214400\n",
       "22     83.361798\n",
       "95     83.519629\n",
       "14     84.947571\n",
       "7      85.086505\n",
       "59     86.397726\n",
       "132    87.215100\n",
       "49     87.276491\n",
       "82     87.480371\n",
       "20     90.807798\n",
       "23     91.498922\n",
       "17     91.505666\n",
       "40     93.070947\n",
       "56     93.164748\n",
       "12     93.587909\n",
       "78     94.004860\n",
       "148    94.464001\n",
       "50     95.820837\n",
       "80     95.920971\n",
       "201    96.369891\n",
       "16     96.811715\n",
       "198    97.081330\n",
       "163    97.767535\n",
       "200    98.129781\n",
       "178    98.816975\n",
       "193    99.175207\n",
       "Name: percent_users_pop, dtype: float64"
      ]
     },
     "execution_count": 165,
     "metadata": {},
     "output_type": "execute_result"
    }
   ],
   "source": [
    "users[users[\"Region\"] == \"Europe\"][\"percent_users_pop\"].sort_values(ascending=True)"
   ]
  },
  {
   "cell_type": "code",
   "execution_count": 166,
   "metadata": {},
   "outputs": [
    {
     "data": {
      "text/plain": [
       "5      69.535903\n",
       "31     62.398753\n",
       "32     61.263727\n",
       "164    57.435446\n",
       "190    57.342218\n",
       "18     55.616887\n",
       "149    55.567444\n",
       "145    55.470275\n",
       "71     55.341278\n",
       "26     55.124829\n",
       "52     53.273252\n",
       "46     50.611380\n",
       "134    49.073386\n",
       "209    48.152444\n",
       "47     42.485621\n",
       "140    42.100638\n",
       "141    38.126440\n",
       "155    36.459115\n",
       "146    31.556380\n",
       "88     30.978969\n",
       "45     29.933445\n",
       "86     29.632978\n",
       "188    28.979567\n",
       "84     27.436579\n",
       "162    25.412403\n",
       "48     23.784311\n",
       "77     22.130417\n",
       "104    21.604426\n",
       "75     20.891701\n",
       "143    20.879688\n",
       "129    20.769690\n",
       "154    18.277887\n",
       "36     17.892589\n",
       "54     17.242737\n",
       "100    15.431305\n",
       "105    14.143721\n",
       "91     13.862650\n",
       "125    13.739677\n",
       "136    13.079155\n",
       "112    12.362779\n",
       "138    12.216804\n",
       "126    11.678136\n",
       "115     9.780339\n",
       "107     9.541993\n",
       "135     9.143118\n",
       "151     8.677038\n",
       "65      8.340271\n",
       "183     8.292464\n",
       "158     7.835840\n",
       "137     6.257378\n",
       "147     5.434368\n",
       "172     4.333220\n",
       "179     3.902677\n",
       "165     1.964596\n",
       "185     1.923143\n",
       "Name: percent_users_pop, dtype: float64"
      ]
     },
     "execution_count": 166,
     "metadata": {},
     "output_type": "execute_result"
    }
   ],
   "source": [
    "users[users[\"Region\"] == \"Africa\"][\"percent_users_pop\"].sort_values(ascending=False)"
   ]
  },
  {
   "cell_type": "code",
   "execution_count": 128,
   "metadata": {},
   "outputs": [],
   "source": [
    "mais_de_90 = users.loc[users['percent_users_pop'] > 90]"
   ]
  },
  {
   "cell_type": "code",
   "execution_count": 167,
   "metadata": {},
   "outputs": [],
   "source": [
    "menos_de_10 = users.loc[users['percent_users_pop'] < 10]"
   ]
  },
  {
   "cell_type": "code",
   "execution_count": 131,
   "metadata": {},
   "outputs": [
    {
     "data": {
      "text/plain": [
       "Country or area      17\n",
       "Subregion             7\n",
       "Region                3\n",
       "Internet users       17\n",
       "Population           17\n",
       "percent_users_pop    17\n",
       "dtype: int64"
      ]
     },
     "execution_count": 131,
     "metadata": {},
     "output_type": "execute_result"
    }
   ],
   "source": [
    "mais_de_90[mais_de_90[\"Population\"] > 5000000].nunique()"
   ]
  },
  {
   "cell_type": "code",
   "execution_count": 169,
   "metadata": {},
   "outputs": [
    {
     "data": {
      "text/plain": [
       "Country or area      8\n",
       "Subregion            3\n",
       "Region               1\n",
       "Internet users       8\n",
       "Population           8\n",
       "percent_users_pop    8\n",
       "dtype: int64"
      ]
     },
     "execution_count": 169,
     "metadata": {},
     "output_type": "execute_result"
    }
   ],
   "source": [
    "menos_de_10[menos_de_10[\"Population\"] > 5000000].nunique()"
   ]
  }
 ],
 "metadata": {
  "kernelspec": {
   "display_name": "Python 3.8.10 64-bit",
   "language": "python",
   "name": "python3"
  },
  "language_info": {
   "codemirror_mode": {
    "name": "ipython",
    "version": 3
   },
   "file_extension": ".py",
   "mimetype": "text/x-python",
   "name": "python",
   "nbconvert_exporter": "python",
   "pygments_lexer": "ipython3",
   "version": "3.8.10"
  },
  "orig_nbformat": 4,
  "vscode": {
   "interpreter": {
    "hash": "b22fbcf701038fbd69ab999f6f6bc51b7229ffe45de2b01a8102f2ac05908b4a"
   }
  }
 },
 "nbformat": 4,
 "nbformat_minor": 2
}
