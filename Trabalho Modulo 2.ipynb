{
 "cells": [
  {
   "cell_type": "code",
   "execution_count": 5,
   "metadata": {},
   "outputs": [],
   "source": [
    "import pandas as pd"
   ]
  },
  {
   "cell_type": "code",
   "execution_count": 6,
   "metadata": {},
   "outputs": [],
   "source": [
    " df = pd.read_csv('D:\\BootCamp - Engenheiro de Dados IGTI\\Modulo 2\\Dados\\worldwide internet users - users.csv', delimiter = ',')"
   ]
  },
  {
   "cell_type": "code",
   "execution_count": 61,
   "metadata": {},
   "outputs": [],
   "source": [
    "mapeamento_continente = {}\n",
    "def mapear(dataframe = df, pais=\"Country or area\", continente=\"Region\"):\n",
    "    mapeamento_continente = dict(zip(dataframe[pais],dataframe[continente]))\n",
    "    return mapeamento_continente\n"
   ]
  },
  {
   "cell_type": "code",
   "execution_count": 62,
   "metadata": {},
   "outputs": [],
   "source": [
    "m = mapear()"
   ]
  },
  {
   "cell_type": "code",
   "execution_count": 113,
   "metadata": {},
   "outputs": [],
   "source": [
    "def retorna_continente(pais):\n",
    "    try:\n",
    "        for i, j in m.items():\n",
    "            if pais == i:\n",
    "                print(j)\n",
    "    except:\n",
    "        print(\"Não existe esse país em nossa base\")\n",
    "             \n",
    "           \n",
    "\n",
    "    \n"
   ]
  },
  {
   "cell_type": "code",
   "execution_count": 114,
   "metadata": {},
   "outputs": [
    {
     "name": "stdout",
     "output_type": "stream",
     "text": [
      "None\n"
     ]
    }
   ],
   "source": [
    "print(retorna_continente(\"Brasil\"))"
   ]
  }
 ],
 "metadata": {
  "kernelspec": {
   "display_name": "Python 3.8.10 64-bit",
   "language": "python",
   "name": "python3"
  },
  "language_info": {
   "codemirror_mode": {
    "name": "ipython",
    "version": 3
   },
   "file_extension": ".py",
   "mimetype": "text/x-python",
   "name": "python",
   "nbconvert_exporter": "python",
   "pygments_lexer": "ipython3",
   "version": "3.8.10"
  },
  "orig_nbformat": 4,
  "vscode": {
   "interpreter": {
    "hash": "b22fbcf701038fbd69ab999f6f6bc51b7229ffe45de2b01a8102f2ac05908b4a"
   }
  }
 },
 "nbformat": 4,
 "nbformat_minor": 2
}
